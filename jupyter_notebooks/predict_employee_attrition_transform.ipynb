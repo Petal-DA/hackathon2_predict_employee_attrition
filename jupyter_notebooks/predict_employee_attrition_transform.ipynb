{
 "cells": [
  {
   "cell_type": "markdown",
   "metadata": {
    "id": "0aStgWSO0E0E"
   },
   "source": [
    "# **Predict Employee Attrition: Transform**"
   ]
  },
  {
   "cell_type": "markdown",
   "metadata": {
    "id": "1eLEkw5O0ECa"
   },
   "source": [
    "## Objectives\n",
    "\n",
    "* At the end of this phase, we will:\n",
    "    - Transform the dataset to analyze it in more detail\n",
    "    - Conduct statistical tests to determine and establish relationships between features\n",
    "    - Create a dashaboard that enables better exploration\n",
    "\n",
    "## Inputs\n",
    "\n",
    "* [Task outline](https://docs.google.com/document/d/e/2PACX-1vThNllbMORJoc348kFavz4mZWT1-33xyazdD2L-3AlTfORlRhuDyT0xmCBQMD2C-K2djQQipt6te6lo/pub)\n",
    "* Extract phase\n",
    "\n",
    "## Outputs\n",
    "\n",
    "* Transform the dataset\n",
    "* Statitical tests and visualizations\n",
    "* PowerBI Dashboard"
   ]
  },
  {
   "cell_type": "markdown",
   "metadata": {
    "id": "9uWZXH9LwoQg"
   },
   "source": [
    "---"
   ]
  },
  {
   "cell_type": "markdown",
   "metadata": {},
   "source": [
    "# Import packages"
   ]
  },
  {
   "cell_type": "code",
   "execution_count": null,
   "metadata": {},
   "outputs": [],
   "source": [
    "import numpy as np\n",
    "import pandas as pd\n",
    "import matplotlib.pyplot as plt\n",
    "import seaborn as sns\n",
    "import plotly.express as px\n",
    "import pingouin as pg"
   ]
  },
  {
   "cell_type": "markdown",
   "metadata": {},
   "source": [
    "---"
   ]
  },
  {
   "cell_type": "markdown",
   "metadata": {
    "id": "uFQo3ycuO-v6"
   },
   "source": [
    "# Data reupload"
   ]
  },
  {
   "cell_type": "code",
   "execution_count": null,
   "metadata": {},
   "outputs": [],
   "source": [
    "df = pd.read_csv(\"../data/cleaned_data/predict_employee_attrition_copy.csv\")\n",
    "print(df.shape)\n",
    "df.head()"
   ]
  },
  {
   "cell_type": "markdown",
   "metadata": {},
   "source": [
    "---"
   ]
  },
  {
   "cell_type": "markdown",
   "metadata": {},
   "source": [
    "# Data transformation"
   ]
  },
  {
   "cell_type": "markdown",
   "metadata": {},
   "source": [
    "Aggregating satisfaction levels"
   ]
  },
  {
   "cell_type": "code",
   "execution_count": null,
   "metadata": {},
   "outputs": [],
   "source": [
    "# Create TotalSatisfaction feature by averaging satisfaction scores\n",
    "satisfaction_cols = [\"JobSatisfaction\", \"EnvironmentSatisfaction\", \"RelationshipSatisfaction\", \"WorkLifeBalance\"]\n",
    "df[\"TotalSatisfaction\"] = df[satisfaction_cols].mean(axis=1)\n",
    "print(df[[\"TotalSatisfaction\"] + satisfaction_cols].head())"
   ]
  },
  {
   "cell_type": "markdown",
   "metadata": {},
   "source": [
    "Creating age groups"
   ]
  },
  {
   "cell_type": "code",
   "execution_count": null,
   "metadata": {},
   "outputs": [],
   "source": [
    "print(df[\"Age\"].nunique())\n",
    "print(\"---\" * 40)\n",
    "print(df[\"Age\"].unique())\n",
    "print(\"---\" * 40)\n",
    "print(f\"Min age: \", df[\"Age\"].min())\n",
    "print(\"---\" * 40)\n",
    "print(f\"Max age: \", df[\"Age\"].max())"
   ]
  },
  {
   "cell_type": "code",
   "execution_count": null,
   "metadata": {},
   "outputs": [],
   "source": [
    "# Define age brackets\n",
    "bins = [18, 25, 35, 45, 55, 65]\n",
    "labels = ['18-25', '26-35', '36-45', '46-55', '56-65']\n",
    "\n",
    "# Create AgeBracket column\n",
    "df['AgeBracket'] = pd.cut(df['Age'], bins=bins, labels=labels, right=True, include_lowest=True)\n",
    "\n",
    "# Display the distribution of age brackets\n",
    "print(df['AgeBracket'].value_counts())\n",
    "print(df[['Age', 'AgeBracket']].head())"
   ]
  },
  {
   "cell_type": "markdown",
   "metadata": {},
   "source": [
    "encoding attrition and gender"
   ]
  },
  {
   "cell_type": "code",
   "execution_count": null,
   "metadata": {},
   "outputs": [],
   "source": [
    "df['Attrition'] = df['Attrition'].map({'Yes': 1, 'No': 0})"
   ]
  },
  {
   "cell_type": "code",
   "execution_count": null,
   "metadata": {},
   "outputs": [],
   "source": [
    "df[\"Gender\"] = df[\"Gender\"].map({\"Male\": 1, \"Female\": 0})"
   ]
  },
  {
   "cell_type": "markdown",
   "metadata": {},
   "source": [
    "## Sanity check: Post-transformation"
   ]
  },
  {
   "cell_type": "code",
   "execution_count": null,
   "metadata": {},
   "outputs": [],
   "source": [
    "df.info()"
   ]
  },
  {
   "cell_type": "code",
   "execution_count": null,
   "metadata": {},
   "outputs": [],
   "source": [
    "(df == 0).sum()"
   ]
  },
  {
   "cell_type": "code",
   "execution_count": null,
   "metadata": {},
   "outputs": [],
   "source": [
    "df.isnull().sum()"
   ]
  },
  {
   "cell_type": "markdown",
   "metadata": {},
   "source": [
    "---"
   ]
  },
  {
   "cell_type": "markdown",
   "metadata": {},
   "source": [
    "# Correlation analysis: Post-transformation"
   ]
  },
  {
   "cell_type": "code",
   "execution_count": null,
   "metadata": {},
   "outputs": [],
   "source": [
    "plt.figure(figsize=(15, 12))\n",
    "mask = np.triu(np.ones_like(df.select_dtypes(include='number').corr(), dtype=bool), k=1)\n",
    "sns.heatmap(df.select_dtypes(include='number').corr(), mask=mask, annot=True, cmap='coolwarm', fmt='.2f')\n",
    "plt.title('Correlation Heatmap')\n",
    "plt.show()"
   ]
  },
  {
   "cell_type": "markdown",
   "metadata": {},
   "source": [
    "**Correlation analysis:**\n",
    "The correlation analysis following transfomration has not revealed any new linear correlations. We will now progress with hypothesis testing and check if there are any statistically significant relationships between features.\n"
   ]
  },
  {
   "cell_type": "code",
   "execution_count": null,
   "metadata": {},
   "outputs": [],
   "source": [
    "pd.crosstab(df['Attrition'], df['Gender'], normalize='columns')"
   ]
  },
  {
   "cell_type": "code",
   "execution_count": null,
   "metadata": {},
   "outputs": [],
   "source": [
    "df = df.drop(columns=['EmployeeCount', 'Over18', 'StandardHours'], errors='ignore') #dropping columns that do not add value to the analysis\n",
    "print(df.shape)\n",
    "df.head(10)"
   ]
  },
  {
   "cell_type": "markdown",
   "metadata": {},
   "source": [
    "# Copy dataset"
   ]
  },
  {
   "cell_type": "code",
   "execution_count": null,
   "metadata": {},
   "outputs": [],
   "source": [
    "df.to_csv(\"../data/transformed_data/predict_employee_attrition_transformed.csv\", index=False)"
   ]
  },
  {
   "cell_type": "markdown",
   "metadata": {},
   "source": [
    "---"
   ]
  },
  {
   "cell_type": "markdown",
   "metadata": {},
   "source": [
    "# Research methodology\n",
    "\n",
    "Testing hypotheses to determine the relationship between features"
   ]
  },
  {
   "cell_type": "markdown",
   "metadata": {},
   "source": [
    "# Hypothesis 2: Age and Attrition Rate"
   ]
  },
  {
   "cell_type": "markdown",
   "metadata": {},
   "source": [
    "\n",
    "\n",
    "**Null hypothesis 2:** Age and attrition rate are independent of each other and do not share a statistically significant relationship."
   ]
  },
  {
   "cell_type": "code",
   "execution_count": null,
   "metadata": {},
   "outputs": [],
   "source": [
    "# Hypothesis testing: Chi-square test of independence between AgeBracket and Attrition\n",
    "import pandas as pd\n",
    "import matplotlib.pyplot as plt\n",
    "import seaborn as sns\n",
    "from scipy.stats import chi2_contingency\n",
    "\n",
    "# Load the transformed dataset\n",
    "try:\n",
    "    df_trans = pd.read_csv('../data/transformed_data/predict_employee_attrition_transformed.csv')\n",
    "except FileNotFoundError:\n",
    "    print(\"Error: The file was not found. Please check the path to your CSV file.\")\n",
    "    # Exit or handle the error appropriately\n",
    "    df_trans = None\n",
    "\n",
    "# Create a contingency table\n",
    "contingency_table = pd.crosstab(df_trans['AgeBracket'], df_trans['Attrition'])\n",
    "print('Contingency Table:')\n",
    "print(contingency_table)\n",
    "\n",
    "# Perform Chi-square test\n",
    "chi2, p, dof, expected = chi2_contingency(contingency_table)\n",
    "print(f'Chi-square statistic: {chi2:.4f}')\n",
    "print(f'p-value: {p:.4f}')\n",
    "print(f'Degrees of freedom: {dof}')\n",
    "print('Expected frequencies:')\n",
    "print(expected)"
   ]
  },
  {
   "cell_type": "code",
   "execution_count": null,
   "metadata": {},
   "outputs": [],
   "source": [
    "# Visualization: Attrition rate by AgeBracket\n",
    "import matplotlib.pyplot as plt\n",
    "import seaborn as sns\n",
    "\n",
    "if df_trans is not None:\n",
    "    # Calculate attrition rate per age bracket\n",
    "    attrition_rate = df_trans.groupby('AgeBracket')['Attrition'].mean().reset_index()\n",
    "\n",
    "    # Create the visualization\n",
    "    plt.figure(figsize=(8,5))\n",
    "    sns.barplot(x='AgeBracket', y='Attrition', data=attrition_rate, palette='viridis')\n",
    "    plt.title('Attrition Rate by Age Bracket')\n",
    "    plt.ylabel('Attrition Rate')\n",
    "    plt.xlabel('Age Bracket')\n",
    "    plt.ylim(0, 1)\n",
    "    plt.show()"
   ]
  },
  {
   "cell_type": "markdown",
   "metadata": {},
   "source": [
    "**Key observations:**\n",
    "* Contingency Table: This table shows the raw counts. For example, in the 18-25 age bracket, 79 employees did not leave (Attrition=0) and 44 did (Attrition=1).\n",
    "* Chi-square statistic: 59.4387: a measure of how much the observed counts differ from the counts one would expect if there was no relationship at all between age and attrition. A larger value suggests a stronger relationship.\n",
    "* A p-value of 0.0000 provides enough evidence to reject the null hypothesis. IN the synthetic dataset there is a statistically significant association between an employee's age bracket and their likelihood of attrition."
   ]
  },
  {
   "cell_type": "markdown",
   "metadata": {},
   "source": [
    "**Business impact:**\n",
    "- Rejecting the null hypothesis means age is a key factor in attrition.\n",
    "- HR can use these insights to design age-specific programs, reduce turnover, and optimize workforce planning."
   ]
  },
  {
   "cell_type": "markdown",
   "metadata": {},
   "source": [
    "---"
   ]
  },
  {
   "cell_type": "markdown",
   "metadata": {},
   "source": [
    "# Hypothesis 4: Monthly Income and Attrition Rate"
   ]
  },
  {
   "cell_type": "markdown",
   "metadata": {},
   "source": [
    "Null hypothesis: Monthly income and attrition rate are independent of each other and do not share a statistically significant relationship."
   ]
  },
  {
   "cell_type": "code",
   "execution_count": null,
   "metadata": {},
   "outputs": [],
   "source": [
    "pg.mwu(df['MonthlyIncome'], df['Attrition'], alternative='two-sided')"
   ]
  },
  {
   "cell_type": "markdown",
   "metadata": {},
   "source": [
    "**Key observations:** \n",
    "* The p-value score is 0, which means we have enough evidence to reject the null hypothesis. In the synthetic dataset, MonthlyIncome and Attrition share a statistically significant relationship."
   ]
  },
  {
   "cell_type": "code",
   "execution_count": null,
   "metadata": {},
   "outputs": [],
   "source": [
    "fig = px.box(df, x='Attrition', y='MonthlyIncome', color='Attrition',\n",
    "             title='Monthly Income vs Attrition',\n",
    "             labels={'MonthlyIncome': 'Monthly Income', 'Attrition': 'Attrition Status'})\n",
    "fig.show()"
   ]
  },
  {
   "cell_type": "markdown",
   "metadata": {},
   "source": [
    "**Key observations:**\n",
    "* Employees who left the company (Attrition = 1) generally have lower monthly incomes compared to those who stayed (Attrition = 0).\n",
    "* The boxplot and distribution plots show a clear separation in income levels between the two groups.\n",
    "* The Mann-Whitney U test result indicates a statistically significant difference in monthly income between employees who left and those who stayed (p-value ≈ 0).\n",
    "* This suggests that lower monthly income is strongly associated with higher attrition rates.\n",
    "* Addressing income disparities may help reduce employee attrition and improve retention."
   ]
  },
  {
   "cell_type": "markdown",
   "metadata": {},
   "source": [
    "**Business impact:**\n",
    "* The strong link between lower monthly income and higher attrition rates highlights the importance of competitive compensation strategies.\n",
    "* Organizations can reduce employee turnover by reviewing and adjusting salary structures, especially for roles with higher attrition.\n",
    "* Improving pay equity and transparency may enhance employee satisfaction and retention.\n",
    "* Addressing income disparities can lead to cost savings by reducing recruitment and training expenses associated with high attrition.\n",
    "* Strategic compensation planning supports a more stable, motivated, and productive workforce."
   ]
  },
  {
   "cell_type": "markdown",
   "metadata": {},
   "source": [
    "**Key observations:**\n",
    "* Attrition Rate: The y-axis shows the proportion of employees in each age bracket who left the company. For example, a rate of 0.4 means 40% of the employees in that group left.\n",
    "* Key Insight 1: Youngest employees have the highest attrition: The \"18-25\" age bracket has the highest bar, with an attrition rate of over 35%. This is a very strong signal that the youngest employees are the most likely to leave.\n",
    "* Key Insight 2: Mid-career stability: The attrition rate drops for the \"26-35\" group and is lowest for the \"36-45\" age bracket (at around 10%). This suggests that employees in their late 20s to mid-40s are the most stable.\n",
    "* Key Insight 3: A slight rise in later careers: The rate begins to creep up again for the \"46-55\" and \"56-65\" age brackets, though it never reaches the high levels of the youngest group. This could be due to retirements or late-career changes."
   ]
  },
  {
   "cell_type": "markdown",
   "metadata": {},
   "source": [
    "**Hypotheses:**\n",
    "\n",
    "1. Gender impacts attrition\n",
    "\n",
    "2. \n",
    "\n",
    "3. \n",
    "\n",
    "4. \n",
    "\n",
    "5. Total satisfaction level impacts attrition\n",
    "\n",
    "    5.1 JobSatisfaction impacts attrition"
   ]
  },
  {
   "cell_type": "markdown",
   "metadata": {},
   "source": [
    "# Hypothesis 1: Gender and Attrition"
   ]
  },
  {
   "cell_type": "markdown",
   "metadata": {},
   "source": [
    "Null hypothesis: Gender and attrition rate are independent of each other and do not share a statistically significant relationship."
   ]
  },
  {
   "cell_type": "code",
   "execution_count": null,
   "metadata": {},
   "outputs": [],
   "source": [
    "df[\"Gender\"].info()"
   ]
  },
  {
   "cell_type": "code",
   "execution_count": null,
   "metadata": {},
   "outputs": [],
   "source": [
    "observed, expected, stats = pg.chi2_independence(data = df, x = \"Gender\", y = \"Attrition\")\n",
    "\n",
    "stats"
   ]
  },
  {
   "cell_type": "markdown",
   "metadata": {},
   "source": [
    "**Key observations:** The p-value score is more than 0.05, which means we do not have enough evidence to reject the null hypothesis. In the synthetic dataset, Gender and Attrition do not share a statistically significant relationship."
   ]
  },
  {
   "cell_type": "code",
   "execution_count": null,
   "metadata": {},
   "outputs": [],
   "source": [
    "fig = px.box(\n",
    "    df,\n",
    "    x=\"Gender\",\n",
    "    color=\"Attrition\",\n",
    "    points=\"all\",\n",
    "    title=\"Attrition Count by Gender\",\n",
    "    labels={\n",
    "        \"Gender\": \"Gender (1=Male, 0=Female)\",\n",
    "        \"Attrition\": \"Attrition (0=No, 1=Yes)\"\n",
    "    }\n",
    ")\n",
    "fig.show()"
   ]
  },
  {
   "cell_type": "markdown",
   "metadata": {},
   "source": [
    "**Key observations:** The boxes in the boxplots overlap and there is absolutely no difference in the median either. The graph helps us validate the test results that Gender and Attrition are not statistically related in the synthetic dataset."
   ]
  },
  {
   "cell_type": "markdown",
   "metadata": {},
   "source": [
    "**Business imapct:** While the synthetic dataset doesn't capture the observation, some behavior patterns might impact one gender more than the other gender. The business still needs to closely monitor for signals, however, subtle they maybe to ensure a fair, unbiased workspace. \n",
    "\n",
    "**Note:** As the current dataset is biased, we cannot generalize the findings to actual workplace environments. Recommend we tweak the data collection process to ensure that we collect balanced data."
   ]
  },
  {
   "cell_type": "markdown",
   "metadata": {},
   "source": [
    "**Note to ML Engineer/Data Scientist:** Dataset is biased as both Gender and Attrition features have imbalanced values. Gender has more male samples and Attrition has more No samples. "
   ]
  },
  {
   "cell_type": "markdown",
   "metadata": {},
   "source": [
    "---"
   ]
  },
  {
   "cell_type": "markdown",
   "metadata": {},
   "source": [
    "# Hypothesis 5: Total satisfaction level and Attrition"
   ]
  },
  {
   "cell_type": "markdown",
   "metadata": {},
   "source": [
    "Null hypothesis: Satisfaction levels and attrition rate are independent of each other and do not share a statistically significant relationship."
   ]
  },
  {
   "cell_type": "code",
   "execution_count": null,
   "metadata": {},
   "outputs": [],
   "source": [
    "pg.mwu(df[\"Attrition\"], df[\"TotalSatisfaction\"], alternative='two-sided')"
   ]
  },
  {
   "cell_type": "markdown",
   "metadata": {},
   "source": [
    "**Key observations:** A p-value score of 0 provides enough evidence to reject the null hypothesis. In the synthetic dataset, TotalSatisfaction and Attrition share a statistically significant relationship."
   ]
  },
  {
   "cell_type": "code",
   "execution_count": null,
   "metadata": {},
   "outputs": [],
   "source": [
    "# Box plot: TotalSatisfaction by Attrition\n",
    "fig = px.box(df, x=\"Attrition\", y=\"TotalSatisfaction\", points=\"all\",\n",
    "             title=\"Total Satisfaction by Attrition Status\",\n",
    "             labels={\"Attrition\": \"Attrition (0=No, 1=Yes)\", \"TotalSatisfaction\": \"Total Satisfaction\"},\n",
    "             color=\"Attrition\")\n",
    "fig.show()"
   ]
  },
  {
   "cell_type": "code",
   "execution_count": null,
   "metadata": {},
   "outputs": [],
   "source": [
    "# Box plots: Satisfaction indicators by Attrition\n",
    "satisfaction_cols = [\"JobSatisfaction\", \"EnvironmentSatisfaction\", \"RelationshipSatisfaction\", \"WorkLifeBalance\"]\n",
    "for col in satisfaction_cols:\n",
    "    fig = px.box(df, x=\"Attrition\", y=col, points=\"all\",\n",
    "                 title=f\"{col} by Attrition Status\",\n",
    "                 labels={\"Attrition\": \"Attrition (0=No, 1=Yes)\", col: col},\n",
    "                 color=\"Attrition\")\n",
    "    fig.show()"
   ]
  },
  {
   "cell_type": "markdown",
   "metadata": {},
   "source": [
    "**Key observations:** \n",
    "\n",
    "1. TotalSatisfaction aggregates JobSatisfaction, EnvironmentSatisfaction, RelationshipSatisfaction, and WorkLifeBalance.\n",
    "\n",
    "2. I have plotted all the features in the second boxplot to understand which feature actually contributes to Attrition from the aggregated TotalSatisfaction feature in the synthetic dataset. \n",
    "\n",
    "3. JobSatisfaction and Attrition box plot clearly indicates a difference in Job Satifaction scores between attrited and existing employees. Although, the median is the same, the scores show a higher variance (is distributed more) among existing employees rather than attrited employees. In the synthetic dataset, there is a significant difference between attrited and existing employees when comparing job satisfaction score.\n",
    "\n",
    "4. EnvironmentSatisfaction and Attrition indicates that the medians are overlapping. Additionally, the attrited employees' environmental satisfaction scores show a tight distribution between 1 and 4. In the synthetic dataset, there is no significant difference between attrited and existing employees when comparing environment satisfaction score.\n",
    "\n",
    "5. RelationshipSatisfaction and Attrition indicates that the box and the medians are overlapping. In the synthetic dataset, there is no significant difference between attrited and existing employees when comparing relationship satisfaction score.\n",
    "\n",
    "6. WorkLifeBalance and Attrition too indicates that the box and the medians are overlapping. In the synthetic dataset, there is no significant difference between attrited and existing employees when comparing work-life balance score."
   ]
  },
  {
   "cell_type": "markdown",
   "metadata": {},
   "source": [
    "**Business impact:** The synthetic dataset reveals that job satisfaction is closely associated with attrition level. What might also be interesting to focus on is the work-life balance score. Burnout plays a major role in determining an employee's motivation to continue working at an environment. Identifying and adressing this helps improve retention. Here are some measures to improve retention:\n",
    "1. Rewards and recognition\n",
    "2. Promotions\n",
    "3. Adaptive working conditions, such as remote and hybrid work"
   ]
  },
  {
   "cell_type": "markdown",
   "metadata": {},
   "source": [
    "---"
   ]
  },
  {
   "cell_type": "markdown",
   "metadata": {},
   "source": [
    "# Hypothesis 5.1: Job Satisfaction and Attrition"
   ]
  },
  {
   "cell_type": "markdown",
   "metadata": {},
   "source": [
    "Null hypothesis: Job satisfaction levels and attrition rate are independent of each other and do not share a statistically significant relationship."
   ]
  },
  {
   "cell_type": "code",
   "execution_count": null,
   "metadata": {},
   "outputs": [],
   "source": [
    "pg.mwu(df[\"Attrition\"], df[\"JobSatisfaction\"], alternative='two-sided')"
   ]
  },
  {
   "cell_type": "markdown",
   "metadata": {},
   "source": [
    "**Key observations:** A p-value score of 0 provides enough evidence to reject the null hypothesis. In the synthetic dataset, Job satisfaction level and attrition share a statistically significant relationship."
   ]
  },
  {
   "cell_type": "code",
   "execution_count": null,
   "metadata": {},
   "outputs": [],
   "source": [
    "# Box plot: Job satisfaction by Attrition\n",
    "fig = px.box(df, x=\"Attrition\", y=\"JobSatisfaction\", points=\"all\",\n",
    "             title=\"Job Satisfaction by Attrition Status\",\n",
    "             labels={\"Attrition\": \"Attrition (0=No, 1=Yes)\", \"JobSatisfaction\": \"Job Satisfaction\"},\n",
    "             color=\"Attrition\")\n",
    "fig.show()"
   ]
  },
  {
   "cell_type": "markdown",
   "metadata": {},
   "source": [
    "**Business impact:** Job satisfaction level impacts attrition in the synthetic dataset. In the real-world, organziations can help improve job satisfaction by adopting the following measures:\n",
    "1. Clarity and transparency: Explaining the motivation and impact provides a clear vision on how a person's work is impacting the organization. This helps build a sense of achievement at the workplace.\n",
    "2. Respect: Hear out employee opinions to ensure they feel heard and included. Apart from being respected, this helps them feel one with the organziation.\n",
    "3. Culture: Build a culture of mutual respect and integrity. For instance, reflect core values in everyday work. This will help build a working culture that's not only motivated but continues motivating others."
   ]
  },
  {
   "cell_type": "markdown",
   "metadata": {},
   "source": [
    "---"
   ]
  },
  {
   "cell_type": "markdown",
   "metadata": {},
   "source": [
    "# Consolidated research results"
   ]
  },
  {
   "cell_type": "markdown",
   "metadata": {},
   "source": [
    "|Index|Hypotheses|method|p-value|Interpreation|\n",
    "|-----|----------------|-------------------------|-------------|-------|\n",
    "|1|Gender and Attrition|Chi-squared|0.29|Accept null|\n",
    "|2|Gender and Attrition|Chi-squared|0.29|Reject null|\n",
    "|3|Gender and Attrition|Chi-squared|0.29|Reject null|\n",
    "|4|Gender and Attrition|Chi-squared|0.29|Reject null|\n",
    "|5|Total satisfaction level and Attrition|MWU|0.0|Reject null|\n",
    "|5.1|JobSatisfaction and Attrition|MWU|0.0|Reject null|"
   ]
  },
  {
   "cell_type": "markdown",
   "metadata": {},
   "source": [
    "---"
   ]
  },
  {
   "cell_type": "markdown",
   "metadata": {},
   "source": [
    "# Summary"
   ]
  },
  {
   "cell_type": "markdown",
   "metadata": {},
   "source": []
  }
 ],
 "metadata": {
  "accelerator": "GPU",
  "colab": {
   "name": "Data Practitioner Jupyter Notebook.ipynb",
   "provenance": [],
   "toc_visible": true
  },
  "kernelspec": {
   "display_name": ".venv (3.12.8)",
   "language": "python",
   "name": "python3"
  },
  "language_info": {
   "codemirror_mode": {
    "name": "ipython",
    "version": 3
   },
   "file_extension": ".py",
   "mimetype": "text/x-python",
   "name": "python",
   "nbconvert_exporter": "python",
   "pygments_lexer": "ipython3",
   "version": "3.12.8"
  }
 },
 "nbformat": 4,
 "nbformat_minor": 2
}
