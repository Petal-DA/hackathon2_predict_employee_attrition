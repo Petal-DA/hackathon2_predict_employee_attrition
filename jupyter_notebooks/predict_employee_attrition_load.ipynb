{
 "cells": [
  {
   "cell_type": "markdown",
   "metadata": {
    "id": "0aStgWSO0E0E"
   },
   "source": [
    "# **Predict Employee Attrition: Load**"
   ]
  },
  {
   "cell_type": "markdown",
   "metadata": {
    "id": "1eLEkw5O0ECa"
   },
   "source": [
    "## Objectives\n",
    "\n",
    "* At the end of this phase, we will:\n",
    "    - Summarize the ETL steps\n",
    "    - Outline the next steps\n",
    "    \n",
    "\n",
    "## Inputs\n",
    "\n",
    "* [Task outline](https://docs.google.com/document/d/e/2PACX-1vThNllbMORJoc348kFavz4mZWT1-33xyazdD2L-3AlTfORlRhuDyT0xmCBQMD2C-K2djQQipt6te6lo/pub)\n",
    "* Extract and load phases\n",
    "\n",
    "## Outputs\n",
    "\n",
    "* Summary of the ETL process\n",
    "* Next steps"
   ]
  },
  {
   "cell_type": "markdown",
   "metadata": {
    "id": "9uWZXH9LwoQg"
   },
   "source": [
    "---"
   ]
  },
  {
   "cell_type": "markdown",
   "metadata": {},
   "source": [
    "# Import packages"
   ]
  },
  {
   "cell_type": "code",
   "execution_count": 1,
   "metadata": {},
   "outputs": [],
   "source": [
    "import numpy as np\n",
    "import pandas as pd"
   ]
  },
  {
   "cell_type": "markdown",
   "metadata": {},
   "source": [
    "---"
   ]
  },
  {
   "cell_type": "markdown",
   "metadata": {
    "id": "uFQo3ycuO-v6"
   },
   "source": [
    "# Data reupload"
   ]
  },
  {
   "cell_type": "code",
   "execution_count": 2,
   "metadata": {},
   "outputs": [
    {
     "name": "stdout",
     "output_type": "stream",
     "text": [
      "(1470, 34)\n"
     ]
    },
    {
     "data": {
      "text/html": [
       "<div>\n",
       "<style scoped>\n",
       "    .dataframe tbody tr th:only-of-type {\n",
       "        vertical-align: middle;\n",
       "    }\n",
       "\n",
       "    .dataframe tbody tr th {\n",
       "        vertical-align: top;\n",
       "    }\n",
       "\n",
       "    .dataframe thead th {\n",
       "        text-align: right;\n",
       "    }\n",
       "</style>\n",
       "<table border=\"1\" class=\"dataframe\">\n",
       "  <thead>\n",
       "    <tr style=\"text-align: right;\">\n",
       "      <th></th>\n",
       "      <th>Age</th>\n",
       "      <th>Attrition</th>\n",
       "      <th>BusinessTravel</th>\n",
       "      <th>DailyRate</th>\n",
       "      <th>Department</th>\n",
       "      <th>DistanceFromHome</th>\n",
       "      <th>Education</th>\n",
       "      <th>EducationField</th>\n",
       "      <th>EmployeeNumber</th>\n",
       "      <th>EnvironmentSatisfaction</th>\n",
       "      <th>...</th>\n",
       "      <th>StockOptionLevel</th>\n",
       "      <th>TotalWorkingYears</th>\n",
       "      <th>TrainingTimesLastYear</th>\n",
       "      <th>WorkLifeBalance</th>\n",
       "      <th>YearsAtCompany</th>\n",
       "      <th>YearsInCurrentRole</th>\n",
       "      <th>YearsSinceLastPromotion</th>\n",
       "      <th>YearsWithCurrManager</th>\n",
       "      <th>TotalSatisfaction</th>\n",
       "      <th>AgeBracket</th>\n",
       "    </tr>\n",
       "  </thead>\n",
       "  <tbody>\n",
       "    <tr>\n",
       "      <th>0</th>\n",
       "      <td>41</td>\n",
       "      <td>1</td>\n",
       "      <td>Travel_Rarely</td>\n",
       "      <td>1102</td>\n",
       "      <td>Sales</td>\n",
       "      <td>1</td>\n",
       "      <td>2</td>\n",
       "      <td>Life Sciences</td>\n",
       "      <td>1</td>\n",
       "      <td>2</td>\n",
       "      <td>...</td>\n",
       "      <td>0</td>\n",
       "      <td>8</td>\n",
       "      <td>0</td>\n",
       "      <td>1</td>\n",
       "      <td>6</td>\n",
       "      <td>4</td>\n",
       "      <td>0</td>\n",
       "      <td>5</td>\n",
       "      <td>2.00</td>\n",
       "      <td>36-45</td>\n",
       "    </tr>\n",
       "    <tr>\n",
       "      <th>1</th>\n",
       "      <td>49</td>\n",
       "      <td>0</td>\n",
       "      <td>Travel_Frequently</td>\n",
       "      <td>279</td>\n",
       "      <td>Research &amp; Development</td>\n",
       "      <td>8</td>\n",
       "      <td>1</td>\n",
       "      <td>Life Sciences</td>\n",
       "      <td>2</td>\n",
       "      <td>3</td>\n",
       "      <td>...</td>\n",
       "      <td>1</td>\n",
       "      <td>10</td>\n",
       "      <td>3</td>\n",
       "      <td>3</td>\n",
       "      <td>10</td>\n",
       "      <td>7</td>\n",
       "      <td>1</td>\n",
       "      <td>7</td>\n",
       "      <td>3.00</td>\n",
       "      <td>46-55</td>\n",
       "    </tr>\n",
       "    <tr>\n",
       "      <th>2</th>\n",
       "      <td>37</td>\n",
       "      <td>1</td>\n",
       "      <td>Travel_Rarely</td>\n",
       "      <td>1373</td>\n",
       "      <td>Research &amp; Development</td>\n",
       "      <td>2</td>\n",
       "      <td>2</td>\n",
       "      <td>Other</td>\n",
       "      <td>4</td>\n",
       "      <td>4</td>\n",
       "      <td>...</td>\n",
       "      <td>0</td>\n",
       "      <td>7</td>\n",
       "      <td>3</td>\n",
       "      <td>3</td>\n",
       "      <td>0</td>\n",
       "      <td>0</td>\n",
       "      <td>0</td>\n",
       "      <td>0</td>\n",
       "      <td>3.00</td>\n",
       "      <td>36-45</td>\n",
       "    </tr>\n",
       "    <tr>\n",
       "      <th>3</th>\n",
       "      <td>33</td>\n",
       "      <td>0</td>\n",
       "      <td>Travel_Frequently</td>\n",
       "      <td>1392</td>\n",
       "      <td>Research &amp; Development</td>\n",
       "      <td>3</td>\n",
       "      <td>4</td>\n",
       "      <td>Life Sciences</td>\n",
       "      <td>5</td>\n",
       "      <td>4</td>\n",
       "      <td>...</td>\n",
       "      <td>0</td>\n",
       "      <td>8</td>\n",
       "      <td>3</td>\n",
       "      <td>3</td>\n",
       "      <td>8</td>\n",
       "      <td>7</td>\n",
       "      <td>3</td>\n",
       "      <td>0</td>\n",
       "      <td>3.25</td>\n",
       "      <td>26-35</td>\n",
       "    </tr>\n",
       "    <tr>\n",
       "      <th>4</th>\n",
       "      <td>27</td>\n",
       "      <td>0</td>\n",
       "      <td>Travel_Rarely</td>\n",
       "      <td>591</td>\n",
       "      <td>Research &amp; Development</td>\n",
       "      <td>2</td>\n",
       "      <td>1</td>\n",
       "      <td>Medical</td>\n",
       "      <td>7</td>\n",
       "      <td>1</td>\n",
       "      <td>...</td>\n",
       "      <td>1</td>\n",
       "      <td>6</td>\n",
       "      <td>3</td>\n",
       "      <td>3</td>\n",
       "      <td>2</td>\n",
       "      <td>2</td>\n",
       "      <td>2</td>\n",
       "      <td>2</td>\n",
       "      <td>2.50</td>\n",
       "      <td>26-35</td>\n",
       "    </tr>\n",
       "  </tbody>\n",
       "</table>\n",
       "<p>5 rows × 34 columns</p>\n",
       "</div>"
      ],
      "text/plain": [
       "   Age  Attrition     BusinessTravel  DailyRate              Department  \\\n",
       "0   41          1      Travel_Rarely       1102                   Sales   \n",
       "1   49          0  Travel_Frequently        279  Research & Development   \n",
       "2   37          1      Travel_Rarely       1373  Research & Development   \n",
       "3   33          0  Travel_Frequently       1392  Research & Development   \n",
       "4   27          0      Travel_Rarely        591  Research & Development   \n",
       "\n",
       "   DistanceFromHome  Education EducationField  EmployeeNumber  \\\n",
       "0                 1          2  Life Sciences               1   \n",
       "1                 8          1  Life Sciences               2   \n",
       "2                 2          2          Other               4   \n",
       "3                 3          4  Life Sciences               5   \n",
       "4                 2          1        Medical               7   \n",
       "\n",
       "   EnvironmentSatisfaction  ...  StockOptionLevel  TotalWorkingYears  \\\n",
       "0                        2  ...                 0                  8   \n",
       "1                        3  ...                 1                 10   \n",
       "2                        4  ...                 0                  7   \n",
       "3                        4  ...                 0                  8   \n",
       "4                        1  ...                 1                  6   \n",
       "\n",
       "   TrainingTimesLastYear  WorkLifeBalance YearsAtCompany  YearsInCurrentRole  \\\n",
       "0                      0                1              6                   4   \n",
       "1                      3                3             10                   7   \n",
       "2                      3                3              0                   0   \n",
       "3                      3                3              8                   7   \n",
       "4                      3                3              2                   2   \n",
       "\n",
       "  YearsSinceLastPromotion  YearsWithCurrManager  TotalSatisfaction  AgeBracket  \n",
       "0                       0                     5               2.00       36-45  \n",
       "1                       1                     7               3.00       46-55  \n",
       "2                       0                     0               3.00       36-45  \n",
       "3                       3                     0               3.25       26-35  \n",
       "4                       2                     2               2.50       26-35  \n",
       "\n",
       "[5 rows x 34 columns]"
      ]
     },
     "execution_count": 2,
     "metadata": {},
     "output_type": "execute_result"
    }
   ],
   "source": [
    "df = pd.read_csv(\"../data/transformed_data/predict_employee_attrition_transformed.csv\")\n",
    "print(df.shape)\n",
    "df.head()"
   ]
  },
  {
   "cell_type": "markdown",
   "metadata": {},
   "source": [
    "---"
   ]
  },
  {
   "cell_type": "markdown",
   "metadata": {},
   "source": [
    "# Sanity check"
   ]
  },
  {
   "cell_type": "code",
   "execution_count": 3,
   "metadata": {},
   "outputs": [
    {
     "data": {
      "text/plain": [
       "Age                         0\n",
       "Attrition                   0\n",
       "BusinessTravel              0\n",
       "DailyRate                   0\n",
       "Department                  0\n",
       "DistanceFromHome            0\n",
       "Education                   0\n",
       "EducationField              0\n",
       "EmployeeNumber              0\n",
       "EnvironmentSatisfaction     0\n",
       "Gender                      0\n",
       "HourlyRate                  0\n",
       "JobInvolvement              0\n",
       "JobLevel                    0\n",
       "JobRole                     0\n",
       "JobSatisfaction             0\n",
       "MaritalStatus               0\n",
       "MonthlyIncome               0\n",
       "MonthlyRate                 0\n",
       "NumCompaniesWorked          0\n",
       "OverTime                    0\n",
       "PercentSalaryHike           0\n",
       "PerformanceRating           0\n",
       "RelationshipSatisfaction    0\n",
       "StockOptionLevel            0\n",
       "TotalWorkingYears           0\n",
       "TrainingTimesLastYear       0\n",
       "WorkLifeBalance             0\n",
       "YearsAtCompany              0\n",
       "YearsInCurrentRole          0\n",
       "YearsSinceLastPromotion     0\n",
       "YearsWithCurrManager        0\n",
       "TotalSatisfaction           0\n",
       "AgeBracket                  0\n",
       "dtype: int64"
      ]
     },
     "execution_count": 3,
     "metadata": {},
     "output_type": "execute_result"
    }
   ],
   "source": [
    "df.isnull().sum()"
   ]
  },
  {
   "cell_type": "code",
   "execution_count": 6,
   "metadata": {},
   "outputs": [
    {
     "data": {
      "text/plain": [
       "np.int64(0)"
      ]
     },
     "execution_count": 6,
     "metadata": {},
     "output_type": "execute_result"
    }
   ],
   "source": [
    "df.duplicated().sum()"
   ]
  },
  {
   "cell_type": "code",
   "execution_count": 7,
   "metadata": {},
   "outputs": [
    {
     "data": {
      "text/plain": [
       "Age                            0\n",
       "Attrition                   1233\n",
       "BusinessTravel                 0\n",
       "DailyRate                      0\n",
       "Department                     0\n",
       "DistanceFromHome               0\n",
       "Education                      0\n",
       "EducationField                 0\n",
       "EmployeeNumber                 0\n",
       "EnvironmentSatisfaction        0\n",
       "Gender                       588\n",
       "HourlyRate                     0\n",
       "JobInvolvement                 0\n",
       "JobLevel                       0\n",
       "JobRole                        0\n",
       "JobSatisfaction                0\n",
       "MaritalStatus                  0\n",
       "MonthlyIncome                  0\n",
       "MonthlyRate                    0\n",
       "NumCompaniesWorked           197\n",
       "OverTime                       0\n",
       "PercentSalaryHike              0\n",
       "PerformanceRating              0\n",
       "RelationshipSatisfaction       0\n",
       "StockOptionLevel             631\n",
       "TotalWorkingYears             11\n",
       "TrainingTimesLastYear         54\n",
       "WorkLifeBalance                0\n",
       "YearsAtCompany                44\n",
       "YearsInCurrentRole           244\n",
       "YearsSinceLastPromotion      581\n",
       "YearsWithCurrManager         263\n",
       "TotalSatisfaction              0\n",
       "AgeBracket                     0\n",
       "dtype: int64"
      ]
     },
     "execution_count": 7,
     "metadata": {},
     "output_type": "execute_result"
    }
   ],
   "source": [
    "(df == 0).sum()"
   ]
  },
  {
   "cell_type": "markdown",
   "metadata": {},
   "source": [
    "Transformation has not duplicated data or created any null values. However, we did encode Attrition and Gender, which is why the columns with zero-values have increased. "
   ]
  },
  {
   "cell_type": "markdown",
   "metadata": {},
   "source": [
    "---"
   ]
  },
  {
   "cell_type": "markdown",
   "metadata": {},
   "source": [
    "# ETL Summary"
   ]
  },
  {
   "cell_type": "markdown",
   "metadata": {},
   "source": [
    "**Extract:**\n",
    "\n",
    "1. Loaded the dataset from Kaggle\n",
    "\n",
    "2. Checked for missing data, null values, and duplicates\n",
    "\n",
    "3. Drafted business problem and captured assumptions\n",
    "\n",
    "4. Inspected data distrubition, analyzed correlation, probed for outliers, and visualized the data for exploration\n",
    "\n",
    "5. Determined transformation steps and copied the dataset\n",
    "\n",
    "**Transform:**\n",
    "\n",
    "1. Encoded features based on the correlation analysis\n",
    "\n",
    "2. Determined the hypotheses, coducted statistical tests on hypotheses, and explained and visualized the results\n",
    "\n",
    "3. Captured business recommendations and explained why they matter and how they need to be interpret in the real world\n",
    "\n",
    "**Load:**\n",
    "\n",
    "Reloaded the transformed dataset and performed a sanity check\n",
    "\n",
    "Summarized the ETL process\n",
    "\n",
    "Captured the next steps"
   ]
  },
  {
   "cell_type": "markdown",
   "metadata": {},
   "source": [
    "---"
   ]
  },
  {
   "cell_type": "markdown",
   "metadata": {},
   "source": [
    "# Next steps"
   ]
  },
  {
   "cell_type": "markdown",
   "metadata": {},
   "source": [
    "1. Recommend collecting real-world, unbiased data\n",
    "\n",
    "2. In the next sprint, review how data bias will be handled\n",
    "\n",
    "3. In the next sprint, review how zero-value conflicts between the features will be handled\n",
    "\n",
    "4. Recommend building a machine learning model upon resolving the bias in the dataset\n",
    "\n",
    "5. Build a dashboard to visualize the dataset"
   ]
  },
  {
   "cell_type": "markdown",
   "metadata": {},
   "source": [
    "---"
   ]
  },
  {
   "cell_type": "markdown",
   "metadata": {},
   "source": [
    "**Note:** We have created a [PowerBI dashboard](/dashboard/) that visualizes the entire dataset."
   ]
  }
 ],
 "metadata": {
  "accelerator": "GPU",
  "colab": {
   "name": "Data Practitioner Jupyter Notebook.ipynb",
   "provenance": [],
   "toc_visible": true
  },
  "kernelspec": {
   "display_name": ".venv",
   "language": "python",
   "name": "python3"
  },
  "language_info": {
   "codemirror_mode": {
    "name": "ipython",
    "version": 3
   },
   "file_extension": ".py",
   "mimetype": "text/x-python",
   "name": "python",
   "nbconvert_exporter": "python",
   "pygments_lexer": "ipython3",
   "version": "3.12.8"
  }
 },
 "nbformat": 4,
 "nbformat_minor": 2
}
